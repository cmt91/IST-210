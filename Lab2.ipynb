{
  "nbformat": 4,
  "nbformat_minor": 0,
  "metadata": {
    "colab": {
      "name": "Lab2.ipynb",
      "provenance": [],
      "authorship_tag": "ABX9TyMIS9UlHttDYRrc6MNMRlsa",
      "include_colab_link": true
    },
    "kernelspec": {
      "name": "python3",
      "display_name": "Python 3"
    }
  },
  "cells": [
    {
      "cell_type": "markdown",
      "metadata": {
        "id": "view-in-github",
        "colab_type": "text"
      },
      "source": [
        "<a href=\"https://colab.research.google.com/github/cmt91/IST-210/blob/master/Lab2.ipynb\" target=\"_parent\"><img src=\"https://colab.research.google.com/assets/colab-badge.svg\" alt=\"Open In Colab\"/></a>"
      ]
    },
    {
      "cell_type": "markdown",
      "metadata": {
        "id": "isP5bqGUJVkx",
        "colab_type": "text"
      },
      "source": [
        "###Lab 2 - Cameron McCurdy\n"
      ]
    },
    {
      "cell_type": "markdown",
      "metadata": {
        "id": "Ivz4tfO7Kn2Y",
        "colab_type": "text"
      },
      "source": [
        "I started out by creating my pet table with every important relation inside of it, the pet table is also my main table. I created an ID for the important keys that needed to be distinguished between the primary and foreign keys that would re-appear. I felt that everything should be included in the pet table as that is the most important part of this diagram. Everything relates to the pets table which is why I am starting off my description with that. Pet to food is many to many because animals can have many different types of food. Enclosure to pet is one to many because each pet can be in one enclosure at a time but one enclosure can have many pets. It is also the only one that is not included in the loop because nothing else is related to it other than pets. Food to the transaction food table is many to many because there can be many types of food in one transaction. Food to customer is one to many because there can be one customer per transaction but the customer can have many transactions. Customer to pet is one to one because there can only be one transaction per pet and there is only one pet per transaction. Transaction to pet is one to one because there can only be one pet per one transaction and there can’t be multiple pets per transaction. After that the loop restarts and it goes back to Enclosures."
      ]
    },
    {
      "cell_type": "markdown",
      "metadata": {
        "id": "iAxNmMNcJzEE",
        "colab_type": "text"
      },
      "source": [
        "![alt text](https://github.com/cmt91/IST-210/blob/master/lab%202.png?raw=true)"
      ]
    }
  ]
}