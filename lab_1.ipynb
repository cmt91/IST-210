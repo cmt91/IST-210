{
  "nbformat": 4,
  "nbformat_minor": 0,
  "metadata": {
    "colab": {
      "name": "lab 1.ipynb",
      "provenance": [],
      "authorship_tag": "ABX9TyO/xW9RjY45HNa/01MGZswM",
      "include_colab_link": true
    },
    "kernelspec": {
      "name": "python3",
      "display_name": "Python 3"
    }
  },
  "cells": [
    {
      "cell_type": "markdown",
      "metadata": {
        "id": "view-in-github",
        "colab_type": "text"
      },
      "source": [
        "<a href=\"https://colab.research.google.com/github/cmt91/IST-210/blob/master/lab_1.ipynb\" target=\"_parent\"><img src=\"https://colab.research.google.com/assets/colab-badge.svg\" alt=\"Open In Colab\"/></a>"
      ]
    },
    {
      "cell_type": "markdown",
      "metadata": {
        "id": "p-pHoc9oFAJw",
        "colab_type": "text"
      },
      "source": [
        "###Cameron McCurdy"
      ]
    },
    {
      "cell_type": "markdown",
      "metadata": {
        "id": "iIMbAmMPGEQK",
        "colab_type": "text"
      },
      "source": [
        "### My IST related interests"
      ]
    },
    {
      "cell_type": "markdown",
      "metadata": {
        "id": "tFjKBv8eFNUX",
        "colab_type": "text"
      },
      "source": [
        "Some of my favorite IST related things are setting up networks, diagnosing problems and implementing solutions and helping people fix their technology issues. In high school I competed in Cyber Patriot which was a national competition to figure out exploits on OS's and then fix them to secure the images for a hypithetical company."
      ]
    },
    {
      "cell_type": "markdown",
      "metadata": {
        "id": "K0qilcR6F8hZ",
        "colab_type": "text"
      },
      "source": [
        "### My Future Job/Career"
      ]
    },
    {
      "cell_type": "markdown",
      "metadata": {
        "id": "J_lSM9YnGQBW",
        "colab_type": "text"
      },
      "source": [
        "I would like to get a job at a fortune 500 company in the Boston area to start off with and start as a low level employee and try to get experience in a few different things to try and narrow down what I want to focus on for my future. After that I would like to try and land a job at a company where I can spend most of my career."
      ]
    },
    {
      "cell_type": "markdown",
      "metadata": {
        "id": "_yxRaj84KpU3",
        "colab_type": "text"
      },
      "source": [
        "![alt text](https://raw.githubusercontent.com/cmt91/IST-210/master/images/cam%20and%20erickson.jpg)"
      ]
    }
  ]
}