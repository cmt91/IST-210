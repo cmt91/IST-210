{
  "nbformat": 4,
  "nbformat_minor": 0,
  "metadata": {
    "colab": {
      "name": "firstday.ipynb",
      "provenance": [],
      "authorship_tag": "ABX9TyMifAhTwxLv69GP3X1yu4Gm",
      "include_colab_link": true
    },
    "kernelspec": {
      "name": "python3",
      "display_name": "Python 3"
    }
  },
  "cells": [
    {
      "cell_type": "markdown",
      "metadata": {
        "id": "view-in-github",
        "colab_type": "text"
      },
      "source": [
        "<a href=\"https://colab.research.google.com/github/cmt91/IST-210/blob/master/intro/firstday.ipynb\" target=\"_parent\"><img src=\"https://colab.research.google.com/assets/colab-badge.svg\" alt=\"Open In Colab\"/></a>"
      ]
    },
    {
      "cell_type": "code",
      "metadata": {
        "id": "styRqCrizPhO",
        "colab_type": "code",
        "colab": {
          "base_uri": "https://localhost:8080/",
          "height": 34
        },
        "outputId": "171f7483-021a-4702-96d1-62fc858182ef"
      },
      "source": [
        "2+3"
      ],
      "execution_count": 3,
      "outputs": [
        {
          "output_type": "execute_result",
          "data": {
            "text/plain": [
              "5"
            ]
          },
          "metadata": {
            "tags": []
          },
          "execution_count": 3
        }
      ]
    },
    {
      "cell_type": "code",
      "metadata": {
        "id": "QJEPnMWczwIh",
        "colab_type": "code",
        "colab": {}
      },
      "source": [
        ""
      ],
      "execution_count": 0,
      "outputs": []
    },
    {
      "cell_type": "markdown",
      "metadata": {
        "id": "sfhEA2u40Jt8",
        "colab_type": "text"
      },
      "source": [
        "# header\n"
      ]
    },
    {
      "cell_type": "markdown",
      "metadata": {
        "id": "K3wSUZlK4SCi",
        "colab_type": "text"
      },
      "source": [
        "![alt text](https://raw.githubusercontent.com/cmt91/IST-210/master/dog.png)"
      ]
    }
  ]
}